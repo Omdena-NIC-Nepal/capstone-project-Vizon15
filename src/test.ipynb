{
 "cells": [
  {
   "cell_type": "code",
   "execution_count": 5,
   "metadata": {},
   "outputs": [
    {
     "name": "stdout",
     "output_type": "stream",
     "text": [
      "Index(['Date', 'District', 'Rainfall (mm)', 'Floods', 'Drought', 'Forest Fire',\n",
      "       'Temperature (°C)', 'Precipitation (mm)', 'Humidity (%)',\n",
      "       'Air Quality Index', 'Population Exposure (count)', 'SPI', 'HSI',\n",
      "       'Monsoon', 'Season', 'Rain_lag_1', 'Temp_lag_1', 'Rain_lag_3',\n",
      "       'Temp_lag_3', 'Rain_lag_7', 'Temp_lag_7', 'Rain_lag_30', 'Temp_lag_30',\n",
      "       'Dist_to_Capital', 'Area', 'Pop_Density', 'Floods_norm', 'Drought_norm',\n",
      "       'Forest Fire_norm', 'Air Quality Index_norm', 'InfraRisk_High',\n",
      "       'InfraRisk_Low', 'InfraRisk_Medium', 'PC1', 'PC2', 'PC3', 'PC4', 'PC5',\n",
      "       'Synthetic_Elevation', 'climate_zone', 'flood_event',\n",
      "       'vulnerability_class', 'Impact', 'Province'],\n",
      "      dtype='object')\n"
     ]
    },
    {
     "data": {
      "text/html": [
       "<div>\n",
       "<style scoped>\n",
       "    .dataframe tbody tr th:only-of-type {\n",
       "        vertical-align: middle;\n",
       "    }\n",
       "\n",
       "    .dataframe tbody tr th {\n",
       "        vertical-align: top;\n",
       "    }\n",
       "\n",
       "    .dataframe thead th {\n",
       "        text-align: right;\n",
       "    }\n",
       "</style>\n",
       "<table border=\"1\" class=\"dataframe\">\n",
       "  <thead>\n",
       "    <tr style=\"text-align: right;\">\n",
       "      <th></th>\n",
       "      <th>Date</th>\n",
       "      <th>District</th>\n",
       "      <th>Rainfall (mm)</th>\n",
       "      <th>Floods</th>\n",
       "      <th>Drought</th>\n",
       "      <th>Forest Fire</th>\n",
       "      <th>Temperature (°C)</th>\n",
       "      <th>Precipitation (mm)</th>\n",
       "      <th>Humidity (%)</th>\n",
       "      <th>Air Quality Index</th>\n",
       "      <th>...</th>\n",
       "      <th>PC2</th>\n",
       "      <th>PC3</th>\n",
       "      <th>PC4</th>\n",
       "      <th>PC5</th>\n",
       "      <th>Synthetic_Elevation</th>\n",
       "      <th>climate_zone</th>\n",
       "      <th>flood_event</th>\n",
       "      <th>vulnerability_class</th>\n",
       "      <th>Impact</th>\n",
       "      <th>Province</th>\n",
       "    </tr>\n",
       "  </thead>\n",
       "  <tbody>\n",
       "    <tr>\n",
       "      <th>0</th>\n",
       "      <td>2000-01-01</td>\n",
       "      <td>Achham</td>\n",
       "      <td>0.85261</td>\n",
       "      <td>0</td>\n",
       "      <td>0</td>\n",
       "      <td>0</td>\n",
       "      <td>0.156958</td>\n",
       "      <td>154.35</td>\n",
       "      <td>76.09</td>\n",
       "      <td>176.08</td>\n",
       "      <td>...</td>\n",
       "      <td>-0.012163</td>\n",
       "      <td>0.471185</td>\n",
       "      <td>-1.147313</td>\n",
       "      <td>0.425487</td>\n",
       "      <td>486.0</td>\n",
       "      <td>Subtropical</td>\n",
       "      <td>0</td>\n",
       "      <td>High</td>\n",
       "      <td>0.602766</td>\n",
       "      <td>Sudurpashchim</td>\n",
       "    </tr>\n",
       "  </tbody>\n",
       "</table>\n",
       "<p>1 rows × 44 columns</p>\n",
       "</div>"
      ],
      "text/plain": [
       "         Date District  Rainfall (mm)  Floods  Drought  Forest Fire  \\\n",
       "0  2000-01-01   Achham        0.85261       0        0            0   \n",
       "\n",
       "   Temperature (°C)  Precipitation (mm)  Humidity (%)  Air Quality Index  ...  \\\n",
       "0          0.156958              154.35         76.09             176.08  ...   \n",
       "\n",
       "        PC2       PC3       PC4       PC5 Synthetic_Elevation  climate_zone  \\\n",
       "0 -0.012163  0.471185 -1.147313  0.425487               486.0   Subtropical   \n",
       "\n",
       "   flood_event  vulnerability_class    Impact       Province  \n",
       "0            0                 High  0.602766  Sudurpashchim  \n",
       "\n",
       "[1 rows x 44 columns]"
      ]
     },
     "execution_count": 5,
     "metadata": {},
     "output_type": "execute_result"
    }
   ],
   "source": [
    "import pandas as pd\n",
    "url = \"https://www.dropbox.com/scl/fi/x45dmh7gr7zdoxhmv0grj/updated_engineered_features_with_provinces.csv?rlkey=e4fc80irn8a1yacjw80ilvirn&st=engd7jr8&dl=1\"\n",
    "df = pd.read_csv(url, nrows=1)\n",
    "print(df.columns)\n",
    "df.head()"
   ]
  }
 ],
 "metadata": {
  "kernelspec": {
   "display_name": "gis_env",
   "language": "python",
   "name": "python3"
  },
  "language_info": {
   "codemirror_mode": {
    "name": "ipython",
    "version": 3
   },
   "file_extension": ".py",
   "mimetype": "text/x-python",
   "name": "python",
   "nbconvert_exporter": "python",
   "pygments_lexer": "ipython3",
   "version": "3.11.11"
  }
 },
 "nbformat": 4,
 "nbformat_minor": 2
}
